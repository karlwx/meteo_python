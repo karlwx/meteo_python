{
 "cells": [
  {
   "cell_type": "markdown",
   "id": "178d3cf7-d5cc-488c-a567-5a12f307d943",
   "metadata": {},
   "source": [
    "## NEXRAD Data Download and Analysis\n",
    "Karl Schneider (kps5442@psu.edu)"
   ]
  },
  {
   "cell_type": "code",
   "execution_count": 1,
   "id": "dbc5c53f-b874-42d6-9745-fdcdb9ccc8cd",
   "metadata": {},
   "outputs": [
    {
     "name": "stdout",
     "output_type": "stream",
     "text": [
      "\n",
      "## You are using the Python ARM Radar Toolkit (Py-ART), an open source\n",
      "## library for working with weather radar data. Py-ART is partly\n",
      "## supported by the U.S. Department of Energy as part of the Atmospheric\n",
      "## Radiation Measurement (ARM) Climate Research Facility, an Office of\n",
      "## Science user facility.\n",
      "##\n",
      "## If you use this software to prepare a publication, please cite:\n",
      "##\n",
      "##     JJ Helmus and SM Collis, JORS 2016, doi: 10.5334/jors.119\n",
      "\n"
     ]
    }
   ],
   "source": [
    "import tempfile\n",
    "from datetime import datetime, timedelta\n",
    "import nexradaws"
   ]
  },
  {
   "cell_type": "markdown",
   "id": "4822fd2d-573d-4521-9d52-0b43bfed28a5",
   "metadata": {
    "tags": []
   },
   "source": [
    "#### Data Download\n",
    "An example of downloading NEXRAD Level 2 radar data for a particular time of interest using the nexradaws python module.  \n",
    "https://nexradaws.readthedocs.io/en/latest/"
   ]
  },
  {
   "cell_type": "code",
   "execution_count": 2,
   "id": "8a5787d0-8abe-4e12-ab77-1534907e0aaf",
   "metadata": {},
   "outputs": [],
   "source": [
    "# Download test data - look for files in window of 10 min before time of interest and grab most recent file\n",
    "conn = nexradaws.NexradAwsInterface()\n",
    "site = 'KCCX'\n",
    "time = datetime(2017, 3, 3, 18, 30)\n",
    "scans = conn.get_avail_scans_in_range(time-timedelta(minutes=10), time, site)"
   ]
  },
  {
   "cell_type": "code",
   "execution_count": 3,
   "id": "f2cb62ac-53ab-43cf-ab55-7d4015a35e7e",
   "metadata": {},
   "outputs": [
    {
     "data": {
      "text/plain": [
       "[<AwsNexradFile object - 2017/03/03/KCCX/KCCX20170303_182436_V06>]"
      ]
     },
     "execution_count": 3,
     "metadata": {},
     "output_type": "execute_result"
    }
   ],
   "source": [
    "scans"
   ]
  },
  {
   "cell_type": "code",
   "execution_count": 4,
   "id": "0d96f523-09af-45d6-b942-2edca290c3c6",
   "metadata": {},
   "outputs": [
    {
     "name": "stdout",
     "output_type": "stream",
     "text": [
      "Downloaded KCCX20170303_182436_V06\n",
      "1 out of 1 files downloaded...0 errors\n"
     ]
    }
   ],
   "source": [
    "# Download data to a temporary directory\n",
    "tmpdir = tempfile.mkdtemp()\n",
    "download = conn.download(scans[-1], tmpdir)"
   ]
  },
  {
   "cell_type": "code",
   "execution_count": 5,
   "id": "582172c8-4276-4a2e-a63c-f11336eed85c",
   "metadata": {},
   "outputs": [
    {
     "data": {
      "text/plain": [
       "[<LocalNexradFile object - /tmp/tmpwuj69u0j/KCCX20170303_182436_V06>]"
      ]
     },
     "execution_count": 5,
     "metadata": {},
     "output_type": "execute_result"
    }
   ],
   "source": [
    "# Show the downloaded file\n",
    "download.success"
   ]
  },
  {
   "cell_type": "markdown",
   "id": "b7fa1c6a-5afb-4bb5-96b9-4baff6bc345e",
   "metadata": {},
   "source": [
    "----"
   ]
  },
  {
   "cell_type": "code",
   "execution_count": null,
   "id": "b405cbea-01c5-4d50-8b8c-d5be87a2fe82",
   "metadata": {},
   "outputs": [],
   "source": []
  }
 ],
 "metadata": {
  "kernelspec": {
   "display_name": "Python 3 (ipykernel)",
   "language": "python",
   "name": "python3"
  },
  "language_info": {
   "codemirror_mode": {
    "name": "ipython",
    "version": 3
   },
   "file_extension": ".py",
   "mimetype": "text/x-python",
   "name": "python",
   "nbconvert_exporter": "python",
   "pygments_lexer": "ipython3",
   "version": "3.9.7"
  }
 },
 "nbformat": 4,
 "nbformat_minor": 5
}
